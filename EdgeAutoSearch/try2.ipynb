{
 "cells": [
  {
   "cell_type": "code",
   "execution_count": 1,
   "metadata": {},
   "outputs": [
    {
     "ename": "AttributeError",
     "evalue": "'WebDriver' object has no attribute 'find_element_by_name'",
     "output_type": "error",
     "traceback": [
      "\u001b[1;31m---------------------------------------------------------------------------\u001b[0m",
      "\u001b[1;31mAttributeError\u001b[0m                            Traceback (most recent call last)",
      "Cell \u001b[1;32mIn[1], line 22\u001b[0m\n\u001b[0;32m     19\u001b[0m driver\u001b[38;5;241m.\u001b[39mget(\u001b[38;5;124m'\u001b[39m\u001b[38;5;124mhttps://www.google.com\u001b[39m\u001b[38;5;124m'\u001b[39m)\n\u001b[0;32m     21\u001b[0m \u001b[38;5;66;03m# Find the search box element and enter the search term\u001b[39;00m\n\u001b[1;32m---> 22\u001b[0m search_box \u001b[38;5;241m=\u001b[39m \u001b[43mdriver\u001b[49m\u001b[38;5;241;43m.\u001b[39;49m\u001b[43mfind_element_by_name\u001b[49m(\u001b[38;5;124m'\u001b[39m\u001b[38;5;124mq\u001b[39m\u001b[38;5;124m'\u001b[39m)\n\u001b[0;32m     23\u001b[0m search_box\u001b[38;5;241m.\u001b[39msend_keys(search_term)\n\u001b[0;32m     25\u001b[0m \u001b[38;5;66;03m# Submit the search\u001b[39;00m\n",
      "\u001b[1;31mAttributeError\u001b[0m: 'WebDriver' object has no attribute 'find_element_by_name'"
     ]
    }
   ],
   "source": [
    "from selenium import webdriver\n",
    "import random\n",
    "\n",
    "# Create a new instance of the Edge driver\n",
    "driver = webdriver.Edge()\n",
    "\n",
    "# Set the loop counter to 0\n",
    "counter = 0\n",
    "\n",
    "# Set the maximum number of loops\n",
    "max_loops = 5\n",
    "\n",
    "# Start the loop\n",
    "while counter < max_loops:\n",
    "    # Generate a random search term\n",
    "    search_term = f'Random Search {random.randint(1, 100)}'\n",
    "\n",
    "    # Navigate to Google's homepage\n",
    "    driver.get('https://www.google.com')\n",
    "\n",
    "    # Find the search box element and enter the search term\n",
    "    search_box = driver.find_element_by_name('q')\n",
    "    search_box.send_keys(search_term)\n",
    "\n",
    "    # Submit the search\n",
    "    search_box.submit()\n",
    "\n",
    "    # Wait for the search results to load\n",
    "    driver.implicitly_wait(10)\n",
    "\n",
    "    # Close the browser\n",
    "    driver.quit()\n",
    "\n",
    "    # Increment the counter\n",
    "    counter += 1"
   ]
  }
 ],
 "metadata": {
  "kernelspec": {
   "display_name": "useGPU",
   "language": "python",
   "name": "python3"
  },
  "language_info": {
   "codemirror_mode": {
    "name": "ipython",
    "version": 3
   },
   "file_extension": ".py",
   "mimetype": "text/x-python",
   "name": "python",
   "nbconvert_exporter": "python",
   "pygments_lexer": "ipython3",
   "version": "3.8.18"
  }
 },
 "nbformat": 4,
 "nbformat_minor": 2
}
